{
 "cells": [
  {
   "cell_type": "code",
   "execution_count": 1,
   "metadata": {
    "collapsed": true
   },
   "outputs": [],
   "source": [
    "import Media.Timed.Audio.Stream\n",
    "import Math.FunctionalAnalysis.L2Function.R1\n",
    "import qualified Data.Vector.Generic as Arr\n",
    "import Data.Default"
   ]
  },
  {
   "cell_type": "code",
   "execution_count": 2,
   "metadata": {
    "collapsed": true
   },
   "outputs": [],
   "source": [
    "import qualified Data.Time as Time\n",
    "type Duration = Time.NominalDiffTime"
   ]
  },
  {
   "cell_type": "code",
   "execution_count": 3,
   "metadata": {
    "collapsed": false
   },
   "outputs": [],
   "source": [
    "bell :: Duration -> Audio\n",
    "bell τ = Audio ldτ . fromUniformSampled def . Arr.generate (round $ 2^ldτ*νs) $\n",
    "      \\j -> let t = fromIntegral j/νs\n",
    "            in sin (130*2*pi*t) * tanh (3*sin (210*t*2*pi) + sin (200*t^2*2*pi)/4) * exp (-t) / 2\n",
    " where νs = 40000\n",
    "       ldτ = ceiling $ logBase 2 (realToFrac τ)"
   ]
  },
  {
   "cell_type": "code",
   "execution_count": 4,
   "metadata": {
    "collapsed": true
   },
   "outputs": [],
   "source": [
    "timePerformance :: IO a -> IO Time.NominalDiffTime\n",
    "timePerformance action = do\n",
    "    t₀ <- Time.getCurrentTime\n",
    "    action\n",
    "    te <- Time.getCurrentTime\n",
    "    return $ Time.diffUTCTime te t₀"
   ]
  },
  {
   "cell_type": "code",
   "execution_count": 5,
   "metadata": {
    "collapsed": false
   },
   "outputs": [
    {
     "data": {
      "text/plain": [
       "[(1s,2.311294s),(2s,4.332929s),(4s,9.076178s),(8s,16.657636s),(16s,30.71858s)]"
      ]
     },
     "metadata": {},
     "output_type": "display_data"
    }
   ],
   "source": [
    "{-# LANGUAGE TupleSections #-}\n",
    "timings <- mapM (\\τ -> fmap (τ,) . timePerformance . playMonoAudio $ bell τ) [1,2,4,8,16]\n",
    "timings"
   ]
  },
  {
   "cell_type": "code",
   "execution_count": 6,
   "metadata": {
    "collapsed": false
   },
   "outputs": [
    {
     "data": {
      "text/plain": [
       "GraphWindowSpecR2{lBound=-1.4999999999999996, rBound=18.5, bBound=-2.4232536666666666, tBound=35.45312766666667, xResolution=640, yResolution=480}"
      ]
     },
     "metadata": {},
     "output_type": "display_data"
    }
   ],
   "source": [
    "import Graphics.Dynamic.Plot.R2\n",
    "plotWindow [lineSegPlot [(realToFrac τ, realToFrac p) | (τ,p) <- timings]]"
   ]
  },
  {
   "cell_type": "code",
   "execution_count": null,
   "metadata": {
    "collapsed": true
   },
   "outputs": [],
   "source": []
  }
 ],
 "metadata": {
  "kernelspec": {
   "display_name": "Haskell",
   "language": "haskell",
   "name": "haskell"
  },
  "language_info": {
   "codemirror_mode": "ihaskell",
   "file_extension": ".hs",
   "name": "haskell",
   "version": "7.10.2"
  }
 },
 "nbformat": 4,
 "nbformat_minor": 0
}
