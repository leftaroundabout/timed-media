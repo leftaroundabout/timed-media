{
 "cells": [
  {
   "cell_type": "code",
   "execution_count": 1,
   "metadata": {
    "collapsed": true
   },
   "outputs": [],
   "source": [
    "import Media.Timed.Audio.Stream\n",
    "import Math.FunctionalAnalysis.L2Function.R1\n",
    "import qualified Data.Vector.Generic as Arr\n",
    "import Data.Default"
   ]
  },
  {
   "cell_type": "code",
   "execution_count": 2,
   "metadata": {
    "collapsed": false
   },
   "outputs": [],
   "source": [
    "bell :: Audio\n",
    "bell = Audio 2 . fromUniformSampled def . Arr.generate 160000 $\n",
    "      \\j -> let t = fromIntegral j/40000\n",
    "            in sin (130*2*pi*t) * tanh (3*sin (210*t*2*pi) + sin (200*t^2*2*pi)/4) * exp (-t) / 2"
   ]
  },
  {
   "cell_type": "code",
   "execution_count": 3,
   "metadata": {
    "collapsed": true
   },
   "outputs": [],
   "source": [
    "import qualified Data.Time as Time\n",
    "timePerformance :: IO a -> IO Time.NominalDiffTime\n",
    "timePerformance action = do\n",
    "    t₀ <- Time.getCurrentTime\n",
    "    action\n",
    "    te <- Time.getCurrentTime\n",
    "    return $ Time.diffUTCTime te t₀"
   ]
  },
  {
   "cell_type": "code",
   "execution_count": 4,
   "metadata": {
    "collapsed": false
   },
   "outputs": [
    {
     "data": {
      "text/plain": [
       "9.214687s"
      ]
     },
     "metadata": {},
     "output_type": "display_data"
    }
   ],
   "source": [
    "timePerformance $ playMonoAudio bell"
   ]
  },
  {
   "cell_type": "code",
   "execution_count": null,
   "metadata": {
    "collapsed": true
   },
   "outputs": [],
   "source": []
  }
 ],
 "metadata": {
  "kernelspec": {
   "display_name": "Haskell",
   "language": "haskell",
   "name": "haskell"
  },
  "language_info": {
   "codemirror_mode": "ihaskell",
   "file_extension": ".hs",
   "name": "haskell",
   "version": "7.10.2"
  }
 },
 "nbformat": 4,
 "nbformat_minor": 0
}
